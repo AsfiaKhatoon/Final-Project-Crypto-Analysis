{
 "cells": [
  {
   "cell_type": "code",
   "execution_count": 33,
   "metadata": {},
   "outputs": [],
   "source": [
    "import pandas as pd\n",
    "import json\n",
    "from urllib.request import urlopen\n",
    "import yfinance as yf\n",
    "from datetime import datetime\n",
    "import seaborn as sns"
   ]
  },
  {
   "cell_type": "code",
   "execution_count": 18,
   "metadata": {},
   "outputs": [],
   "source": [
    "btc_url = \"https://min-api.cryptocompare.com/data/v2/histoday?fsym=BTC&tsym=USD&limit=2000&api_key=d1875a3943f6f2ee83a90ac2e05d5fa018618e00724e9018f9bd08c0ac932cc6\"\n",
    "btc_data = urlopen(btc_url).read() #Open the API contents \n",
    "btc_json = json.loads(btc_data) #Transform the contents of our response into a manageable JSON format"
   ]
  },
  {
   "cell_type": "code",
   "execution_count": 19,
   "metadata": {},
   "outputs": [],
   "source": [
    "#Transform Bitcoin data so we can run analysis\n",
    "btc_price = btc_json['Data']['Data'] ##Extract only the relevant data from the JSON variable\n",
    "btc_df = pd.DataFrame(btc_price) ##Convert the json format into a Pandas dataframe \n",
    "btc_df['btc_returns'] = ((btc_df['close']/btc_df['open']) - 1) * 100 #create a coloumn for daily returns of Bitcoin \n",
    "btc_df['Date'] = btc_df['time'].apply(lambda x: datetime.utcfromtimestamp(x).strftime('%Y-%m-%d')) #Formatting the date into a readable format\n",
    "btc_returns = btc_df[['Date', 'btc_returns']] # we select the only 2 columns  correlation calculations namely the Date and the Return\n"
   ]
  },
  {
   "cell_type": "code",
   "execution_count": 137,
   "metadata": {},
   "outputs": [],
   "source": [
    "##Pulling TSLA price history\n",
    "TSLA = yf.Ticker(\"TSLA\")\n",
    "TSLA_df = TSLA.history(period = 'max')"
   ]
  },
  {
   "cell_type": "code",
   "execution_count": 139,
   "metadata": {},
   "outputs": [],
   "source": [
    "##Transform TSLA data so we can run analysis\n",
    "TSLA = TSLA_df.reset_index() \n",
    "TSLA['Date'] = TSLA['Date'].apply(lambda x: x.strftime('%Y-%m-%d')) \n",
    "TSLA['TSLA_returns'] = ((TSLA['Close']/TSLA['Open']) - 1) * 100\n",
    "TSLA_returns = TSLA[['Date', 'TSLA_returns']]\n"
   ]
  },
  {
   "cell_type": "code",
   "execution_count": 86,
   "metadata": {},
   "outputs": [],
   "source": [
    "##Pulling gold's price history\n",
    "gold = yf.Ticker(\"GC=F\")\n",
    "gold_df = gold.history(period = 'max')\n"
   ]
  },
  {
   "cell_type": "code",
   "execution_count": 23,
   "metadata": {},
   "outputs": [],
   "source": [
    "gold_df = gold_df.reset_index()\n",
    "gold_df['Date'] = gold_df['Date'].apply(lambda x: x.strftime('%Y-%m-%d'))\n",
    "gold_df['gold_returns'] = ((gold_df['Close']/gold_df['Open']) - 1) * 100 \n",
    "gold_returns = gold_df[['Date', 'gold_returns']]\n",
    "\n"
   ]
  },
  {
   "cell_type": "code",
   "execution_count": 140,
   "metadata": {},
   "outputs": [
    {
     "data": {
      "text/html": [
       "<div>\n",
       "<style scoped>\n",
       "    .dataframe tbody tr th:only-of-type {\n",
       "        vertical-align: middle;\n",
       "    }\n",
       "\n",
       "    .dataframe tbody tr th {\n",
       "        vertical-align: top;\n",
       "    }\n",
       "\n",
       "    .dataframe thead th {\n",
       "        text-align: right;\n",
       "    }\n",
       "</style>\n",
       "<table border=\"1\" class=\"dataframe\">\n",
       "  <thead>\n",
       "    <tr style=\"text-align: right;\">\n",
       "      <th></th>\n",
       "      <th>Date</th>\n",
       "      <th>TSLA_returns</th>\n",
       "    </tr>\n",
       "  </thead>\n",
       "  <tbody>\n",
       "    <tr>\n",
       "      <th>0</th>\n",
       "      <td>2010-06-29</td>\n",
       "      <td>25.736840</td>\n",
       "    </tr>\n",
       "    <tr>\n",
       "      <th>1</th>\n",
       "      <td>2010-06-30</td>\n",
       "      <td>-7.599849</td>\n",
       "    </tr>\n",
       "    <tr>\n",
       "      <th>2</th>\n",
       "      <td>2010-07-01</td>\n",
       "      <td>-12.159996</td>\n",
       "    </tr>\n",
       "    <tr>\n",
       "      <th>3</th>\n",
       "      <td>2010-07-02</td>\n",
       "      <td>-16.521739</td>\n",
       "    </tr>\n",
       "    <tr>\n",
       "      <th>4</th>\n",
       "      <td>2010-07-06</td>\n",
       "      <td>-19.450003</td>\n",
       "    </tr>\n",
       "    <tr>\n",
       "      <th>...</th>\n",
       "      <td>...</td>\n",
       "      <td>...</td>\n",
       "    </tr>\n",
       "    <tr>\n",
       "      <th>2929</th>\n",
       "      <td>2022-02-15</td>\n",
       "      <td>2.492221</td>\n",
       "    </tr>\n",
       "    <tr>\n",
       "      <th>2930</th>\n",
       "      <td>2022-02-16</td>\n",
       "      <td>1.021829</td>\n",
       "    </tr>\n",
       "    <tr>\n",
       "      <th>2931</th>\n",
       "      <td>2022-02-17</td>\n",
       "      <td>-4.041569</td>\n",
       "    </tr>\n",
       "    <tr>\n",
       "      <th>2932</th>\n",
       "      <td>2022-02-18</td>\n",
       "      <td>-3.275397</td>\n",
       "    </tr>\n",
       "    <tr>\n",
       "      <th>2933</th>\n",
       "      <td>2022-02-22</td>\n",
       "      <td>-1.510553</td>\n",
       "    </tr>\n",
       "  </tbody>\n",
       "</table>\n",
       "<p>2934 rows × 2 columns</p>\n",
       "</div>"
      ],
      "text/plain": [
       "            Date  TSLA_returns\n",
       "0     2010-06-29     25.736840\n",
       "1     2010-06-30     -7.599849\n",
       "2     2010-07-01    -12.159996\n",
       "3     2010-07-02    -16.521739\n",
       "4     2010-07-06    -19.450003\n",
       "...          ...           ...\n",
       "2929  2022-02-15      2.492221\n",
       "2930  2022-02-16      1.021829\n",
       "2931  2022-02-17     -4.041569\n",
       "2932  2022-02-18     -3.275397\n",
       "2933  2022-02-22     -1.510553\n",
       "\n",
       "[2934 rows x 2 columns]"
      ]
     },
     "execution_count": 140,
     "metadata": {},
     "output_type": "execute_result"
    }
   ],
   "source": [
    "TSLA_returns"
   ]
  },
  {
   "cell_type": "code",
   "execution_count": 27,
   "metadata": {},
   "outputs": [
    {
     "data": {
      "text/html": [
       "<div>\n",
       "<style scoped>\n",
       "    .dataframe tbody tr th:only-of-type {\n",
       "        vertical-align: middle;\n",
       "    }\n",
       "\n",
       "    .dataframe tbody tr th {\n",
       "        vertical-align: top;\n",
       "    }\n",
       "\n",
       "    .dataframe thead th {\n",
       "        text-align: right;\n",
       "    }\n",
       "</style>\n",
       "<table border=\"1\" class=\"dataframe\">\n",
       "  <thead>\n",
       "    <tr style=\"text-align: right;\">\n",
       "      <th></th>\n",
       "      <th>Date</th>\n",
       "      <th>gold_returns</th>\n",
       "    </tr>\n",
       "  </thead>\n",
       "  <tbody>\n",
       "    <tr>\n",
       "      <th>0</th>\n",
       "      <td>2000-08-30</td>\n",
       "      <td>0.000000</td>\n",
       "    </tr>\n",
       "    <tr>\n",
       "      <th>1</th>\n",
       "      <td>2000-08-31</td>\n",
       "      <td>1.273654</td>\n",
       "    </tr>\n",
       "    <tr>\n",
       "      <th>2</th>\n",
       "      <td>2000-09-01</td>\n",
       "      <td>0.000000</td>\n",
       "    </tr>\n",
       "    <tr>\n",
       "      <th>3</th>\n",
       "      <td>2000-09-05</td>\n",
       "      <td>0.000000</td>\n",
       "    </tr>\n",
       "    <tr>\n",
       "      <th>4</th>\n",
       "      <td>2000-09-06</td>\n",
       "      <td>0.000000</td>\n",
       "    </tr>\n",
       "    <tr>\n",
       "      <th>...</th>\n",
       "      <td>...</td>\n",
       "      <td>...</td>\n",
       "    </tr>\n",
       "    <tr>\n",
       "      <th>5385</th>\n",
       "      <td>2022-02-16</td>\n",
       "      <td>0.618712</td>\n",
       "    </tr>\n",
       "    <tr>\n",
       "      <th>5386</th>\n",
       "      <td>2022-02-17</td>\n",
       "      <td>1.300426</td>\n",
       "    </tr>\n",
       "    <tr>\n",
       "      <th>5387</th>\n",
       "      <td>2022-02-18</td>\n",
       "      <td>-0.042121</td>\n",
       "    </tr>\n",
       "    <tr>\n",
       "      <th>5388</th>\n",
       "      <td>2022-02-22</td>\n",
       "      <td>-0.104816</td>\n",
       "    </tr>\n",
       "    <tr>\n",
       "      <th>5389</th>\n",
       "      <td>2022-02-23</td>\n",
       "      <td>-0.105197</td>\n",
       "    </tr>\n",
       "  </tbody>\n",
       "</table>\n",
       "<p>5390 rows × 2 columns</p>\n",
       "</div>"
      ],
      "text/plain": [
       "            Date  gold_returns\n",
       "0     2000-08-30      0.000000\n",
       "1     2000-08-31      1.273654\n",
       "2     2000-09-01      0.000000\n",
       "3     2000-09-05      0.000000\n",
       "4     2000-09-06      0.000000\n",
       "...          ...           ...\n",
       "5385  2022-02-16      0.618712\n",
       "5386  2022-02-17      1.300426\n",
       "5387  2022-02-18     -0.042121\n",
       "5388  2022-02-22     -0.104816\n",
       "5389  2022-02-23     -0.105197\n",
       "\n",
       "[5390 rows x 2 columns]"
      ]
     },
     "execution_count": 27,
     "metadata": {},
     "output_type": "execute_result"
    }
   ],
   "source": [
    "gold_returns"
   ]
  },
  {
   "cell_type": "code",
   "execution_count": 123,
   "metadata": {},
   "outputs": [
    {
     "data": {
      "text/plain": [
       "<AxesSubplot:>"
      ]
     },
     "execution_count": 123,
     "metadata": {},
     "output_type": "execute_result"
    },
    {
     "data": {
      "image/png": "[encoded data removed]",
      "text/plain": [
       "<Figure size 432x288 with 2 Axes>"
      ]
     },
     "metadata": {
      "needs_background": "light"
     },
     "output_type": "display_data"
    }
   ],
   "source": [
    "\n",
    "\n"
   ]
  },
  {
   "cell_type": "code",
   "execution_count": 150,
   "metadata": {},
   "outputs": [],
   "source": [
    "latestdata = joint_df.tail(360)"
   ]
  },
  {
   "cell_type": "code",
   "execution_count": 151,
   "metadata": {},
   "outputs": [],
   "source": [
    "def calculate_correlation(assetA_df,assetB_df):\n",
    "    latestdata = pd.merge(assetA_df,assetB_df) ##pd.merge combines the two datafames into a single df.\n",
    "    correlation = latestdata.iloc[:,1].rolling(30 ).corr(latestdata.iloc[:,2]) ##See notes \n",
    "    return correlation"
   ]
  },
  {
   "cell_type": "code",
   "execution_count": 152,
   "metadata": {},
   "outputs": [],
   "source": [
    "correlation_btc_spy = calculate_correlation(btc_returns,TSLA_returns)\n",
    "correlation_btc_gold = calculate_correlation(btc_returns,gold_returns)\n",
    "correlation_gold_spy = calculate_correlation(TSLA_returns, gold_returns)\n"
   ]
  },
  {
   "cell_type": "code",
   "execution_count": 153,
   "metadata": {},
   "outputs": [
    {
     "name": "stdout",
     "output_type": "stream",
     "text": [
      "The correlation between Bitcoin and stocks is 0.4832844074528318\n",
      "The correlation between Bitcoin and gold is -0.26994996482203326\n",
      "The correlation between stocks and gold is-0.19222751618358183\n"
     ]
    }
   ],
   "source": [
    "print (\"The correlation between Bitcoin and stocks is \" + str(correlation_btc_spy.iloc[-1]))\n",
    "print (\"The correlation between Bitcoin and gold is \" + str(correlation_btc_gold.iloc[-1]))\n",
    "print (\"The correlation between stocks and gold is\" + str(correlation_gold_spy.iloc[-1]))\n"
   ]
  },
  {
   "cell_type": "code",
   "execution_count": 145,
   "metadata": {},
   "outputs": [
    {
     "data": {
      "text/plain": [
       "<AxesSubplot:>"
      ]
     },
     "execution_count": 145,
     "metadata": {},
     "output_type": "execute_result"
    },
    {
     "data": {
      "image/png": "[encoded data removed]",
      "text/plain": [
       "<Figure size 432x288 with 2 Axes>"
      ]
     },
     "metadata": {
      "needs_background": "light"
     },
     "output_type": "display_data"
    }
   ],
   "source": [
    "sns.heatmap(latestdata.corr() )"
   ]
  },
  {
   "cell_type": "code",
   "execution_count": 93,
   "metadata": {},
   "outputs": [
    {
     "data": {
      "text/html": [
       "<div>\n",
       "<style scoped>\n",
       "    .dataframe tbody tr th:only-of-type {\n",
       "        vertical-align: middle;\n",
       "    }\n",
       "\n",
       "    .dataframe tbody tr th {\n",
       "        vertical-align: top;\n",
       "    }\n",
       "\n",
       "    .dataframe thead th {\n",
       "        text-align: right;\n",
       "    }\n",
       "</style>\n",
       "<table border=\"1\" class=\"dataframe\">\n",
       "  <thead>\n",
       "    <tr style=\"text-align: right;\">\n",
       "      <th></th>\n",
       "      <th>Date</th>\n",
       "      <th>btc_returns</th>\n",
       "      <th>spy_returns</th>\n",
       "    </tr>\n",
       "  </thead>\n",
       "  <tbody>\n",
       "    <tr>\n",
       "      <th>0</th>\n",
       "      <td>2016-09-02</td>\n",
       "      <td>0.576933</td>\n",
       "      <td>-2.248801</td>\n",
       "    </tr>\n",
       "    <tr>\n",
       "      <th>1</th>\n",
       "      <td>2016-09-06</td>\n",
       "      <td>0.772583</td>\n",
       "      <td>1.914383</td>\n",
       "    </tr>\n",
       "    <tr>\n",
       "      <th>2</th>\n",
       "      <td>2016-09-07</td>\n",
       "      <td>0.453771</td>\n",
       "      <td>-1.844281</td>\n",
       "    </tr>\n",
       "    <tr>\n",
       "      <th>3</th>\n",
       "      <td>2016-09-08</td>\n",
       "      <td>2.015623</td>\n",
       "      <td>-1.097469</td>\n",
       "    </tr>\n",
       "    <tr>\n",
       "      <th>4</th>\n",
       "      <td>2016-09-09</td>\n",
       "      <td>-0.385249</td>\n",
       "      <td>-2.320558</td>\n",
       "    </tr>\n",
       "    <tr>\n",
       "      <th>...</th>\n",
       "      <td>...</td>\n",
       "      <td>...</td>\n",
       "      <td>...</td>\n",
       "    </tr>\n",
       "    <tr>\n",
       "      <th>1372</th>\n",
       "      <td>2022-02-15</td>\n",
       "      <td>4.756619</td>\n",
       "      <td>2.492221</td>\n",
       "    </tr>\n",
       "    <tr>\n",
       "      <th>1373</th>\n",
       "      <td>2022-02-16</td>\n",
       "      <td>-1.525451</td>\n",
       "      <td>1.021829</td>\n",
       "    </tr>\n",
       "    <tr>\n",
       "      <th>1374</th>\n",
       "      <td>2022-02-17</td>\n",
       "      <td>-7.634463</td>\n",
       "      <td>-4.041569</td>\n",
       "    </tr>\n",
       "    <tr>\n",
       "      <th>1375</th>\n",
       "      <td>2022-02-18</td>\n",
       "      <td>-1.357575</td>\n",
       "      <td>-3.275397</td>\n",
       "    </tr>\n",
       "    <tr>\n",
       "      <th>1376</th>\n",
       "      <td>2022-02-22</td>\n",
       "      <td>3.321940</td>\n",
       "      <td>-1.510553</td>\n",
       "    </tr>\n",
       "  </tbody>\n",
       "</table>\n",
       "<p>1377 rows × 3 columns</p>\n",
       "</div>"
      ],
      "text/plain": [
       "            Date  btc_returns  spy_returns\n",
       "0     2016-09-02     0.576933    -2.248801\n",
       "1     2016-09-06     0.772583     1.914383\n",
       "2     2016-09-07     0.453771    -1.844281\n",
       "3     2016-09-08     2.015623    -1.097469\n",
       "4     2016-09-09    -0.385249    -2.320558\n",
       "...          ...          ...          ...\n",
       "1372  2022-02-15     4.756619     2.492221\n",
       "1373  2022-02-16    -1.525451     1.021829\n",
       "1374  2022-02-17    -7.634463    -4.041569\n",
       "1375  2022-02-18    -1.357575    -3.275397\n",
       "1376  2022-02-22     3.321940    -1.510553\n",
       "\n",
       "[1377 rows x 3 columns]"
      ]
     },
     "execution_count": 93,
     "metadata": {},
     "output_type": "execute_result"
    }
   ],
   "source": [
    "joint_df"
   ]
  },
  {
   "cell_type": "code",
   "execution_count": 148,
   "metadata": {},
   "outputs": [],
   "source": [
    "join3 = latestdata.merge(gold_returns,how='right')"
   ]
  },
  {
   "cell_type": "code",
   "execution_count": 149,
   "metadata": {},
   "outputs": [
    {
     "data": {
      "text/html": [
       "<div>\n",
       "<style scoped>\n",
       "    .dataframe tbody tr th:only-of-type {\n",
       "        vertical-align: middle;\n",
       "    }\n",
       "\n",
       "    .dataframe tbody tr th {\n",
       "        vertical-align: top;\n",
       "    }\n",
       "\n",
       "    .dataframe thead th {\n",
       "        text-align: right;\n",
       "    }\n",
       "</style>\n",
       "<table border=\"1\" class=\"dataframe\">\n",
       "  <thead>\n",
       "    <tr style=\"text-align: right;\">\n",
       "      <th></th>\n",
       "      <th>Date</th>\n",
       "      <th>btc_returns</th>\n",
       "      <th>spy_returns</th>\n",
       "      <th>gold_returns</th>\n",
       "    </tr>\n",
       "  </thead>\n",
       "  <tbody>\n",
       "    <tr>\n",
       "      <th>0</th>\n",
       "      <td>2000-08-30</td>\n",
       "      <td>NaN</td>\n",
       "      <td>NaN</td>\n",
       "      <td>0.000000</td>\n",
       "    </tr>\n",
       "    <tr>\n",
       "      <th>1</th>\n",
       "      <td>2000-08-31</td>\n",
       "      <td>NaN</td>\n",
       "      <td>NaN</td>\n",
       "      <td>1.273654</td>\n",
       "    </tr>\n",
       "    <tr>\n",
       "      <th>2</th>\n",
       "      <td>2000-09-01</td>\n",
       "      <td>NaN</td>\n",
       "      <td>NaN</td>\n",
       "      <td>0.000000</td>\n",
       "    </tr>\n",
       "    <tr>\n",
       "      <th>3</th>\n",
       "      <td>2000-09-05</td>\n",
       "      <td>NaN</td>\n",
       "      <td>NaN</td>\n",
       "      <td>0.000000</td>\n",
       "    </tr>\n",
       "    <tr>\n",
       "      <th>4</th>\n",
       "      <td>2000-09-06</td>\n",
       "      <td>NaN</td>\n",
       "      <td>NaN</td>\n",
       "      <td>0.000000</td>\n",
       "    </tr>\n",
       "    <tr>\n",
       "      <th>...</th>\n",
       "      <td>...</td>\n",
       "      <td>...</td>\n",
       "      <td>...</td>\n",
       "      <td>...</td>\n",
       "    </tr>\n",
       "    <tr>\n",
       "      <th>5385</th>\n",
       "      <td>2022-02-16</td>\n",
       "      <td>-1.525451</td>\n",
       "      <td>1.021829</td>\n",
       "      <td>0.618712</td>\n",
       "    </tr>\n",
       "    <tr>\n",
       "      <th>5386</th>\n",
       "      <td>2022-02-17</td>\n",
       "      <td>-7.634463</td>\n",
       "      <td>-4.041569</td>\n",
       "      <td>1.300426</td>\n",
       "    </tr>\n",
       "    <tr>\n",
       "      <th>5387</th>\n",
       "      <td>2022-02-18</td>\n",
       "      <td>-1.357575</td>\n",
       "      <td>-3.275397</td>\n",
       "      <td>-0.042121</td>\n",
       "    </tr>\n",
       "    <tr>\n",
       "      <th>5388</th>\n",
       "      <td>2022-02-22</td>\n",
       "      <td>3.321940</td>\n",
       "      <td>-1.510553</td>\n",
       "      <td>-0.104816</td>\n",
       "    </tr>\n",
       "    <tr>\n",
       "      <th>5389</th>\n",
       "      <td>2022-02-23</td>\n",
       "      <td>NaN</td>\n",
       "      <td>NaN</td>\n",
       "      <td>-0.105197</td>\n",
       "    </tr>\n",
       "  </tbody>\n",
       "</table>\n",
       "<p>5390 rows × 4 columns</p>\n",
       "</div>"
      ],
      "text/plain": [
       "            Date  btc_returns  spy_returns  gold_returns\n",
       "0     2000-08-30          NaN          NaN      0.000000\n",
       "1     2000-08-31          NaN          NaN      1.273654\n",
       "2     2000-09-01          NaN          NaN      0.000000\n",
       "3     2000-09-05          NaN          NaN      0.000000\n",
       "4     2000-09-06          NaN          NaN      0.000000\n",
       "...          ...          ...          ...           ...\n",
       "5385  2022-02-16    -1.525451     1.021829      0.618712\n",
       "5386  2022-02-17    -7.634463    -4.041569      1.300426\n",
       "5387  2022-02-18    -1.357575    -3.275397     -0.042121\n",
       "5388  2022-02-22     3.321940    -1.510553     -0.104816\n",
       "5389  2022-02-23          NaN          NaN     -0.105197\n",
       "\n",
       "[5390 rows x 4 columns]"
      ]
     },
     "execution_count": 149,
     "metadata": {},
     "output_type": "execute_result"
    }
   ],
   "source": [
    "join3"
   ]
  },
  {
   "cell_type": "code",
   "execution_count": 113,
   "metadata": {},
   "outputs": [],
   "source": []
  }
 ],
 "metadata": {
  "interpreter": {
   "hash": "9d4283e4180f96e01a6ea8c880ff0883fa95af019e9cc0d36027f3e8947bd805"
  },
  "kernelspec": {
   "display_name": "Python 3.8.8 ('crypto-analysis')",
   "language": "python",
   "name": "python3"
  },
  "language_info": {
   "codemirror_mode": {
    "name": "ipython",
    "version": 3
   },
   "file_extension": ".py",
   "mimetype": "text/x-python",
   "name": "python",
   "nbconvert_exporter": "python",
   "pygments_lexer": "ipython3",
   "version": "3.8.8"
  },
  "orig_nbformat": 4
 },
 "nbformat": 4,
 "nbformat_minor": 2
}
