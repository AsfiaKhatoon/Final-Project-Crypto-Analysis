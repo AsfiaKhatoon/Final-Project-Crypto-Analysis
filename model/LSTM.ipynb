{
 "cells": [
  {
   "cell_type": "code",
   "execution_count": 248,
   "metadata": {},
   "outputs": [],
   "source": [
    "#import necessary libraries\n",
    "import pandas as pd\n",
    "import numpy as np\n",
    "import matplotlib.pyplot as plt\n",
    "import plotly.io as plt_io\n",
    "import plotly.express as px\n",
    "import plotly.figure_factory as ff\n",
    "from tensorflow.keras.layers import Dense\n",
    "from sklearn.preprocessing import MinMaxScaler\n"
   ]
  },
  {
   "cell_type": "code",
   "execution_count": 249,
   "metadata": {},
   "outputs": [],
   "source": [
    "#import data from postgres\n",
    "from sqlalchemy import create_engine\n",
    "from sqlalchemy.engine import URL\n",
    "from config import DB_USER, DB_PASSWORD, DB_SERVER_NAME, DB_DATABASE_NAME\n",
    "connection_url = URL.create(\n",
    "    drivername = \"postgresql+pg8000\", \n",
    "    username = DB_USER,\n",
    "    password = DB_PASSWORD,\n",
    "    host = DB_SERVER_NAME, \n",
    "    port = 5432,\n",
    "    database = DB_DATABASE_NAME, \n",
    ")"
   ]
  },
  {
   "cell_type": "code",
   "execution_count": 250,
   "metadata": {},
   "outputs": [],
   "source": [
    "engine = create_engine(connection_url)"
   ]
  },
  {
   "cell_type": "code",
   "execution_count": 251,
   "metadata": {},
   "outputs": [],
   "source": [
    "#dataset into dataframe\n",
    "BTC_df = pd.read_sql(\"btc\", engine)"
   ]
  },
  {
   "cell_type": "code",
   "execution_count": 252,
   "metadata": {},
   "outputs": [],
   "source": [
    "BTC_df=BTC_df.set_index('Date')"
   ]
  },
  {
   "cell_type": "code",
   "execution_count": 253,
   "metadata": {},
   "outputs": [
    {
     "data": {
      "text/html": [
       "<div>\n",
       "<style scoped>\n",
       "    .dataframe tbody tr th:only-of-type {\n",
       "        vertical-align: middle;\n",
       "    }\n",
       "\n",
       "    .dataframe tbody tr th {\n",
       "        vertical-align: top;\n",
       "    }\n",
       "\n",
       "    .dataframe thead th {\n",
       "        text-align: right;\n",
       "    }\n",
       "</style>\n",
       "<table border=\"1\" class=\"dataframe\">\n",
       "  <thead>\n",
       "    <tr style=\"text-align: right;\">\n",
       "      <th></th>\n",
       "      <th>Open</th>\n",
       "      <th>High</th>\n",
       "      <th>Low</th>\n",
       "      <th>Close</th>\n",
       "      <th>Adj Close</th>\n",
       "      <th>Volume</th>\n",
       "      <th>ds</th>\n",
       "      <th>y</th>\n",
       "    </tr>\n",
       "    <tr>\n",
       "      <th>Date</th>\n",
       "      <th></th>\n",
       "      <th></th>\n",
       "      <th></th>\n",
       "      <th></th>\n",
       "      <th></th>\n",
       "      <th></th>\n",
       "      <th></th>\n",
       "      <th></th>\n",
       "    </tr>\n",
       "  </thead>\n",
       "  <tbody>\n",
       "    <tr>\n",
       "      <th>2014-10-15</th>\n",
       "      <td>400.954987</td>\n",
       "      <td>402.226990</td>\n",
       "      <td>388.765991</td>\n",
       "      <td>394.773010</td>\n",
       "      <td>394.773010</td>\n",
       "      <td>2.526710e+07</td>\n",
       "      <td>2014-10-15</td>\n",
       "      <td>394.773010</td>\n",
       "    </tr>\n",
       "    <tr>\n",
       "      <th>2017-03-01</th>\n",
       "      <td>1180.040039</td>\n",
       "      <td>1222.500000</td>\n",
       "      <td>1179.689941</td>\n",
       "      <td>1222.500000</td>\n",
       "      <td>1222.500000</td>\n",
       "      <td>2.290570e+08</td>\n",
       "      <td>2017-03-01</td>\n",
       "      <td>1222.500000</td>\n",
       "    </tr>\n",
       "    <tr>\n",
       "      <th>2014-10-16</th>\n",
       "      <td>394.518005</td>\n",
       "      <td>398.807007</td>\n",
       "      <td>373.070007</td>\n",
       "      <td>382.556000</td>\n",
       "      <td>382.556000</td>\n",
       "      <td>2.699000e+07</td>\n",
       "      <td>2014-10-16</td>\n",
       "      <td>382.556000</td>\n",
       "    </tr>\n",
       "    <tr>\n",
       "      <th>2014-10-17</th>\n",
       "      <td>382.756012</td>\n",
       "      <td>385.477997</td>\n",
       "      <td>375.389008</td>\n",
       "      <td>383.757996</td>\n",
       "      <td>383.757996</td>\n",
       "      <td>1.360070e+07</td>\n",
       "      <td>2014-10-17</td>\n",
       "      <td>383.757996</td>\n",
       "    </tr>\n",
       "    <tr>\n",
       "      <th>2014-10-28</th>\n",
       "      <td>353.214996</td>\n",
       "      <td>359.984009</td>\n",
       "      <td>352.678986</td>\n",
       "      <td>357.618012</td>\n",
       "      <td>357.618012</td>\n",
       "      <td>7.845880e+06</td>\n",
       "      <td>2014-10-28</td>\n",
       "      <td>357.618012</td>\n",
       "    </tr>\n",
       "    <tr>\n",
       "      <th>...</th>\n",
       "      <td>...</td>\n",
       "      <td>...</td>\n",
       "      <td>...</td>\n",
       "      <td>...</td>\n",
       "      <td>...</td>\n",
       "      <td>...</td>\n",
       "      <td>...</td>\n",
       "      <td>...</td>\n",
       "    </tr>\n",
       "    <tr>\n",
       "      <th>2022-02-17</th>\n",
       "      <td>43937.070310</td>\n",
       "      <td>44132.972660</td>\n",
       "      <td>40249.371090</td>\n",
       "      <td>40538.011720</td>\n",
       "      <td>40538.011720</td>\n",
       "      <td>2.624666e+10</td>\n",
       "      <td>2022-02-17</td>\n",
       "      <td>40538.011720</td>\n",
       "    </tr>\n",
       "    <tr>\n",
       "      <th>2022-02-18</th>\n",
       "      <td>40552.132810</td>\n",
       "      <td>40929.152340</td>\n",
       "      <td>39637.617190</td>\n",
       "      <td>40030.976560</td>\n",
       "      <td>40030.976560</td>\n",
       "      <td>2.331001e+10</td>\n",
       "      <td>2022-02-18</td>\n",
       "      <td>40030.976560</td>\n",
       "    </tr>\n",
       "    <tr>\n",
       "      <th>2022-02-19</th>\n",
       "      <td>40026.023440</td>\n",
       "      <td>40418.878910</td>\n",
       "      <td>39713.058590</td>\n",
       "      <td>40122.156250</td>\n",
       "      <td>40122.156250</td>\n",
       "      <td>1.373656e+10</td>\n",
       "      <td>2022-02-19</td>\n",
       "      <td>40122.156250</td>\n",
       "    </tr>\n",
       "    <tr>\n",
       "      <th>2022-02-20</th>\n",
       "      <td>40118.101560</td>\n",
       "      <td>40119.890630</td>\n",
       "      <td>38112.812500</td>\n",
       "      <td>38431.378910</td>\n",
       "      <td>38431.378910</td>\n",
       "      <td>1.834058e+10</td>\n",
       "      <td>2022-02-20</td>\n",
       "      <td>38431.378910</td>\n",
       "    </tr>\n",
       "    <tr>\n",
       "      <th>2022-02-21</th>\n",
       "      <td>38339.218750</td>\n",
       "      <td>39379.757810</td>\n",
       "      <td>38312.089840</td>\n",
       "      <td>39020.238280</td>\n",
       "      <td>39020.238280</td>\n",
       "      <td>1.831242e+10</td>\n",
       "      <td>2022-02-21</td>\n",
       "      <td>39020.238280</td>\n",
       "    </tr>\n",
       "  </tbody>\n",
       "</table>\n",
       "<p>2715 rows × 8 columns</p>\n",
       "</div>"
      ],
      "text/plain": [
       "                    Open          High           Low         Close  \\\n",
       "Date                                                                 \n",
       "2014-10-15    400.954987    402.226990    388.765991    394.773010   \n",
       "2017-03-01   1180.040039   1222.500000   1179.689941   1222.500000   \n",
       "2014-10-16    394.518005    398.807007    373.070007    382.556000   \n",
       "2014-10-17    382.756012    385.477997    375.389008    383.757996   \n",
       "2014-10-28    353.214996    359.984009    352.678986    357.618012   \n",
       "...                  ...           ...           ...           ...   \n",
       "2022-02-17  43937.070310  44132.972660  40249.371090  40538.011720   \n",
       "2022-02-18  40552.132810  40929.152340  39637.617190  40030.976560   \n",
       "2022-02-19  40026.023440  40418.878910  39713.058590  40122.156250   \n",
       "2022-02-20  40118.101560  40119.890630  38112.812500  38431.378910   \n",
       "2022-02-21  38339.218750  39379.757810  38312.089840  39020.238280   \n",
       "\n",
       "               Adj Close        Volume         ds             y  \n",
       "Date                                                             \n",
       "2014-10-15    394.773010  2.526710e+07 2014-10-15    394.773010  \n",
       "2017-03-01   1222.500000  2.290570e+08 2017-03-01   1222.500000  \n",
       "2014-10-16    382.556000  2.699000e+07 2014-10-16    382.556000  \n",
       "2014-10-17    383.757996  1.360070e+07 2014-10-17    383.757996  \n",
       "2014-10-28    357.618012  7.845880e+06 2014-10-28    357.618012  \n",
       "...                  ...           ...        ...           ...  \n",
       "2022-02-17  40538.011720  2.624666e+10 2022-02-17  40538.011720  \n",
       "2022-02-18  40030.976560  2.331001e+10 2022-02-18  40030.976560  \n",
       "2022-02-19  40122.156250  1.373656e+10 2022-02-19  40122.156250  \n",
       "2022-02-20  38431.378910  1.834058e+10 2022-02-20  38431.378910  \n",
       "2022-02-21  39020.238280  1.831242e+10 2022-02-21  39020.238280  \n",
       "\n",
       "[2715 rows x 8 columns]"
      ]
     },
     "execution_count": 253,
     "metadata": {},
     "output_type": "execute_result"
    }
   ],
   "source": [
    "BTC_df"
   ]
  },
  {
   "cell_type": "code",
   "execution_count": 254,
   "metadata": {},
   "outputs": [],
   "source": [
    "BTC_df = BTC_df[['Close']]"
   ]
  },
  {
   "cell_type": "code",
   "execution_count": 255,
   "metadata": {},
   "outputs": [],
   "source": [
    "#select data from past 1 year and load into a dataframe\n",
    "latest_df = BTC_df.tail(365)"
   ]
  },
  {
   "cell_type": "code",
   "execution_count": 256,
   "metadata": {},
   "outputs": [],
   "source": [
    "#Clean data by deleting nulls\n",
    "latest_df = latest_df.dropna()"
   ]
  },
  {
   "cell_type": "code",
   "execution_count": 257,
   "metadata": {},
   "outputs": [
    {
     "data": {
      "text/html": [
       "<div>\n",
       "<style scoped>\n",
       "    .dataframe tbody tr th:only-of-type {\n",
       "        vertical-align: middle;\n",
       "    }\n",
       "\n",
       "    .dataframe tbody tr th {\n",
       "        vertical-align: top;\n",
       "    }\n",
       "\n",
       "    .dataframe thead th {\n",
       "        text-align: right;\n",
       "    }\n",
       "</style>\n",
       "<table border=\"1\" class=\"dataframe\">\n",
       "  <thead>\n",
       "    <tr style=\"text-align: right;\">\n",
       "      <th></th>\n",
       "      <th>Close</th>\n",
       "    </tr>\n",
       "    <tr>\n",
       "      <th>Date</th>\n",
       "      <th></th>\n",
       "    </tr>\n",
       "  </thead>\n",
       "  <tbody>\n",
       "    <tr>\n",
       "      <th>2021-02-22</th>\n",
       "      <td>54207.32031</td>\n",
       "    </tr>\n",
       "    <tr>\n",
       "      <th>2021-02-23</th>\n",
       "      <td>48824.42578</td>\n",
       "    </tr>\n",
       "    <tr>\n",
       "      <th>2021-02-24</th>\n",
       "      <td>49705.33203</td>\n",
       "    </tr>\n",
       "    <tr>\n",
       "      <th>2021-02-25</th>\n",
       "      <td>47093.85156</td>\n",
       "    </tr>\n",
       "    <tr>\n",
       "      <th>2021-02-26</th>\n",
       "      <td>46339.76172</td>\n",
       "    </tr>\n",
       "    <tr>\n",
       "      <th>...</th>\n",
       "      <td>...</td>\n",
       "    </tr>\n",
       "    <tr>\n",
       "      <th>2022-02-17</th>\n",
       "      <td>40538.01172</td>\n",
       "    </tr>\n",
       "    <tr>\n",
       "      <th>2022-02-18</th>\n",
       "      <td>40030.97656</td>\n",
       "    </tr>\n",
       "    <tr>\n",
       "      <th>2022-02-19</th>\n",
       "      <td>40122.15625</td>\n",
       "    </tr>\n",
       "    <tr>\n",
       "      <th>2022-02-20</th>\n",
       "      <td>38431.37891</td>\n",
       "    </tr>\n",
       "    <tr>\n",
       "      <th>2022-02-21</th>\n",
       "      <td>39020.23828</td>\n",
       "    </tr>\n",
       "  </tbody>\n",
       "</table>\n",
       "<p>365 rows × 1 columns</p>\n",
       "</div>"
      ],
      "text/plain": [
       "                  Close\n",
       "Date                   \n",
       "2021-02-22  54207.32031\n",
       "2021-02-23  48824.42578\n",
       "2021-02-24  49705.33203\n",
       "2021-02-25  47093.85156\n",
       "2021-02-26  46339.76172\n",
       "...                 ...\n",
       "2022-02-17  40538.01172\n",
       "2022-02-18  40030.97656\n",
       "2022-02-19  40122.15625\n",
       "2022-02-20  38431.37891\n",
       "2022-02-21  39020.23828\n",
       "\n",
       "[365 rows x 1 columns]"
      ]
     },
     "execution_count": 257,
     "metadata": {},
     "output_type": "execute_result"
    }
   ],
   "source": [
    "latest_df"
   ]
  },
  {
   "cell_type": "code",
   "execution_count": 258,
   "metadata": {},
   "outputs": [],
   "source": [
    "#Split data into train = 70% and test = 30%\n",
    "train_rec = int(len(latest_df)*0.70)"
   ]
  },
  {
   "cell_type": "code",
   "execution_count": 259,
   "metadata": {},
   "outputs": [
    {
     "name": "stdout",
     "output_type": "stream",
     "text": [
      "(255, 1)\n"
     ]
    }
   ],
   "source": [
    "train_df = latest_df[0:train_rec]\n",
    "print(train_df.shape)"
   ]
  },
  {
   "cell_type": "code",
   "execution_count": 260,
   "metadata": {},
   "outputs": [
    {
     "name": "stdout",
     "output_type": "stream",
     "text": [
      "(110, 1)\n"
     ]
    }
   ],
   "source": [
    "test_df = latest_df[train_rec:]\n",
    "print(test_df.shape)\n"
   ]
  },
  {
   "cell_type": "code",
   "execution_count": 261,
   "metadata": {},
   "outputs": [
    {
     "name": "stderr",
     "output_type": "stream",
     "text": [
      "C:\\Users\\asfia\\anaconda3\\envs\\crypto-analysis\\lib\\site-packages\\sklearn\\utils\\validation.py:1688: FutureWarning:\n",
      "\n",
      "Feature names only support names that are all strings. Got feature names with dtypes: ['quoted_name']. An error will be raised in 1.2.\n",
      "\n",
      "C:\\Users\\asfia\\anaconda3\\envs\\crypto-analysis\\lib\\site-packages\\sklearn\\utils\\validation.py:1688: FutureWarning:\n",
      "\n",
      "Feature names only support names that are all strings. Got feature names with dtypes: ['quoted_name']. An error will be raised in 1.2.\n",
      "\n",
      "C:\\Users\\asfia\\anaconda3\\envs\\crypto-analysis\\lib\\site-packages\\sklearn\\utils\\validation.py:1688: FutureWarning:\n",
      "\n",
      "Feature names only support names that are all strings. Got feature names with dtypes: ['quoted_name']. An error will be raised in 1.2.\n",
      "\n"
     ]
    }
   ],
   "source": [
    "sc = MinMaxScaler(feature_range = (0, 1))\n",
    "train_scaled = sc.fit_transform(train_df)\n",
    "test_scaled =sc.transform(test_df)\n",
    "\n",
    "def dataset(data , n_features):\n",
    "    X, Y = [],[]\n",
    "    for i in range(len(data)-n_features-1):\n",
    "        a=data[i:(i+n_features),0]\n",
    "\n",
    "        X.append(a)\n",
    "        Y.append(data[i+n_features,0])\n",
    "    return np.array(X), np.array(Y)\n",
    "\n",
    "n_features = 3\n",
    "X_train, y_train = dataset(train_scaled, n_features)\n",
    "X_test, y_test = dataset(test_scaled, n_features)\n",
    "\n"
   ]
  },
  {
   "cell_type": "code",
   "execution_count": 262,
   "metadata": {},
   "outputs": [
    {
     "name": "stdout",
     "output_type": "stream",
     "text": [
      "(251, 3, 1) (251,) (106, 3, 1) (251,)\n"
     ]
    }
   ],
   "source": [
    "X_train = X_train.reshape(X_train.shape[0],X_train.shape[1],1)\n",
    "X_test = X_test.reshape(X_test.shape[0],X_test.shape[1],1)\n",
    "print(X_train.shape , y_train.shape, X_test.shape, y_train.shape) "
   ]
  },
  {
   "cell_type": "code",
   "execution_count": 263,
   "metadata": {},
   "outputs": [],
   "source": [
    "#model building\n",
    "from keras.models import Model\n",
    "from keras.layers import Input\n",
    "from keras.layers import LSTM\n"
   ]
  },
  {
   "cell_type": "code",
   "execution_count": 282,
   "metadata": {},
   "outputs": [],
   "source": [
    "#Initialising RNN\n",
    "inputs = keras.layers.Input(shape=(X_test.shape[1], X_test.shape[2]) )\n",
    "x = keras.layers.LSTM(30,return_sequences=True)(inputs)\n",
    "x = keras.layers.Dropout(0.3)(x)\n",
    "x = keras.layers.LSTM(30,return_sequences= True)(inputs)\n",
    "x = keras.layers.Dropout(0.3)(x)\n",
    "x = keras.layers.LSTM(30)(x)\n",
    "outputs = keras.layers.Dense(1, activation = 'linear')(x)\n",
    "\n",
    "model  = keras.Model(inputs=inputs,outputs=outputs)\n",
    "\n",
    "\n",
    "\n",
    "\n"
   ]
  },
  {
   "cell_type": "code",
   "execution_count": 283,
   "metadata": {},
   "outputs": [
    {
     "name": "stdout",
     "output_type": "stream",
     "text": [
      "Model: \"model_10\"\n",
      "_________________________________________________________________\n",
      " Layer (type)                Output Shape              Param #   \n",
      "=================================================================\n",
      " input_24 (InputLayer)       [(None, 3, 1)]            0         \n",
      "                                                                 \n",
      " lstm_42 (LSTM)              (None, 3, 30)             3840      \n",
      "                                                                 \n",
      " dropout_21 (Dropout)        (None, 3, 30)             0         \n",
      "                                                                 \n",
      " lstm_43 (LSTM)              (None, 30)                7320      \n",
      "                                                                 \n",
      " dense_13 (Dense)            (None, 1)                 31        \n",
      "                                                                 \n",
      "=================================================================\n",
      "Total params: 11,191\n",
      "Trainable params: 11,191\n",
      "Non-trainable params: 0\n",
      "_________________________________________________________________\n"
     ]
    }
   ],
   "source": [
    "\n",
    "model.summary()"
   ]
  },
  {
   "cell_type": "code",
   "execution_count": 284,
   "metadata": {},
   "outputs": [],
   "source": [
    "#Compiling the model\n",
    "model.compile(optimizer='adam',\n",
    "              loss='mse',\n",
    "              metrics=['accuracy'])"
   ]
  },
  {
   "cell_type": "code",
   "execution_count": 267,
   "metadata": {},
   "outputs": [
    {
     "data": {
      "text/plain": [
       "(106, 3, 1)"
      ]
     },
     "execution_count": 267,
     "metadata": {},
     "output_type": "execute_result"
    }
   ],
   "source": [
    "#using test dataset that is from past 106 days - data loaded on 20/2/2022\n",
    "X_test.shape"
   ]
  },
  {
   "cell_type": "code",
   "execution_count": 286,
   "metadata": {},
   "outputs": [
    {
     "name": "stdout",
     "output_type": "stream",
     "text": [
      "Epoch 1/25\n",
      "2/2 [==============================] - 0s 5ms/step - loss: 0.0145 - accuracy: 0.0000e+00\n",
      "Epoch 2/25\n",
      "2/2 [==============================] - 0s 5ms/step - loss: 0.0165 - accuracy: 0.0000e+00\n",
      "Epoch 3/25\n",
      "2/2 [==============================] - 0s 6ms/step - loss: 0.0134 - accuracy: 0.0000e+00\n",
      "Epoch 4/25\n",
      "2/2 [==============================] - 0s 5ms/step - loss: 0.0150 - accuracy: 0.0000e+00\n",
      "Epoch 5/25\n",
      "2/2 [==============================] - 0s 5ms/step - loss: 0.0132 - accuracy: 0.0000e+00\n",
      "Epoch 6/25\n",
      "2/2 [==============================] - 0s 5ms/step - loss: 0.0126 - accuracy: 0.0000e+00\n",
      "Epoch 7/25\n",
      "2/2 [==============================] - 0s 5ms/step - loss: 0.0149 - accuracy: 0.0000e+00\n",
      "Epoch 8/25\n",
      "2/2 [==============================] - 0s 5ms/step - loss: 0.0143 - accuracy: 0.0000e+00\n",
      "Epoch 9/25\n",
      "2/2 [==============================] - 0s 5ms/step - loss: 0.0120 - accuracy: 0.0000e+00\n",
      "Epoch 10/25\n",
      "2/2 [==============================] - 0s 4ms/step - loss: 0.0106 - accuracy: 0.0000e+00\n",
      "Epoch 11/25\n",
      "2/2 [==============================] - 0s 5ms/step - loss: 0.0119 - accuracy: 0.0000e+00\n",
      "Epoch 12/25\n",
      "2/2 [==============================] - 0s 6ms/step - loss: 0.0120 - accuracy: 0.0000e+00\n",
      "Epoch 13/25\n",
      "2/2 [==============================] - 0s 5ms/step - loss: 0.0092 - accuracy: 0.0000e+00\n",
      "Epoch 14/25\n",
      "2/2 [==============================] - 0s 5ms/step - loss: 0.0118 - accuracy: 0.0000e+00\n",
      "Epoch 15/25\n",
      "2/2 [==============================] - 0s 5ms/step - loss: 0.0093 - accuracy: 0.0000e+00\n",
      "Epoch 16/25\n",
      "2/2 [==============================] - 0s 5ms/step - loss: 0.0121 - accuracy: 0.0000e+00\n",
      "Epoch 17/25\n",
      "2/2 [==============================] - 0s 5ms/step - loss: 0.0109 - accuracy: 0.0000e+00\n",
      "Epoch 18/25\n",
      "2/2 [==============================] - 0s 4ms/step - loss: 0.0117 - accuracy: 0.0000e+00\n",
      "Epoch 19/25\n",
      "2/2 [==============================] - 0s 5ms/step - loss: 0.0100 - accuracy: 0.0000e+00\n",
      "Epoch 20/25\n",
      "2/2 [==============================] - 0s 6ms/step - loss: 0.0088 - accuracy: 0.0000e+00\n",
      "Epoch 21/25\n",
      "2/2 [==============================] - 0s 5ms/step - loss: 0.0105 - accuracy: 0.0000e+00\n",
      "Epoch 22/25\n",
      "2/2 [==============================] - 0s 5ms/step - loss: 0.0112 - accuracy: 0.0000e+00\n",
      "Epoch 23/25\n",
      "2/2 [==============================] - 0s 5ms/step - loss: 0.0100 - accuracy: 0.0000e+00\n",
      "Epoch 24/25\n",
      "2/2 [==============================] - 0s 4ms/step - loss: 0.0086 - accuracy: 0.0000e+00\n",
      "Epoch 25/25\n",
      "2/2 [==============================] - 0s 5ms/step - loss: 0.0078 - accuracy: 0.0000e+00\n"
     ]
    },
    {
     "data": {
      "text/plain": [
       "(106, 1)"
      ]
     },
     "execution_count": 286,
     "metadata": {},
     "output_type": "execute_result"
    }
   ],
   "source": [
    "history = model.fit(X_test,y_test,epochs=25,batch_size = 60,validation_split  = 0)\n",
    "pred=model.predict(X_test)\n",
    "pred=sc.inverse_transform(pred)\n",
    "\n",
    "pred.shape\n"
   ]
  },
  {
   "cell_type": "code",
   "execution_count": 287,
   "metadata": {},
   "outputs": [
    {
     "data": {
      "text/plain": [
       "(106, 1)"
      ]
     },
     "execution_count": 287,
     "metadata": {},
     "output_type": "execute_result"
    }
   ],
   "source": [
    "test_actual = y_test.reshape(y_test.shape[0],1)\n",
    "test_actual = sc.inverse_transform(test_actual)\n",
    "test_actual.shape\n"
   ]
  },
  {
   "cell_type": "code",
   "execution_count": 288,
   "metadata": {},
   "outputs": [
    {
     "data": {
      "text/html": [
       "<div>\n",
       "<style scoped>\n",
       "    .dataframe tbody tr th:only-of-type {\n",
       "        vertical-align: middle;\n",
       "    }\n",
       "\n",
       "    .dataframe tbody tr th {\n",
       "        vertical-align: top;\n",
       "    }\n",
       "\n",
       "    .dataframe thead th {\n",
       "        text-align: right;\n",
       "    }\n",
       "</style>\n",
       "<table border=\"1\" class=\"dataframe\">\n",
       "  <thead>\n",
       "    <tr style=\"text-align: right;\">\n",
       "      <th></th>\n",
       "      <th>Prediction</th>\n",
       "      <th>Actual</th>\n",
       "    </tr>\n",
       "  </thead>\n",
       "  <tbody>\n",
       "    <tr>\n",
       "      <th>0</th>\n",
       "      <td>58007.601562</td>\n",
       "      <td>63326.98828</td>\n",
       "    </tr>\n",
       "    <tr>\n",
       "      <th>1</th>\n",
       "      <td>58249.046875</td>\n",
       "      <td>67566.82813</td>\n",
       "    </tr>\n",
       "    <tr>\n",
       "      <th>2</th>\n",
       "      <td>59518.488281</td>\n",
       "      <td>66971.82813</td>\n",
       "    </tr>\n",
       "    <tr>\n",
       "      <th>3</th>\n",
       "      <td>61346.117188</td>\n",
       "      <td>64995.23047</td>\n",
       "    </tr>\n",
       "    <tr>\n",
       "      <th>4</th>\n",
       "      <td>62597.609375</td>\n",
       "      <td>64949.96094</td>\n",
       "    </tr>\n",
       "  </tbody>\n",
       "</table>\n",
       "</div>"
      ],
      "text/plain": [
       "     Prediction       Actual\n",
       "0  58007.601562  63326.98828\n",
       "1  58249.046875  67566.82813\n",
       "2  59518.488281  66971.82813\n",
       "3  61346.117188  64995.23047\n",
       "4  62597.609375  64949.96094"
      ]
     },
     "execution_count": 288,
     "metadata": {},
     "output_type": "execute_result"
    }
   ],
   "source": [
    "#Calculating predict and placing actual and predicted values in on dataframe\n",
    "test_predicted = []\n",
    "for i in pred:\n",
    "    test_predicted.append(i[0])\n",
    "df_predicted = pd.DataFrame()\n",
    "df_predicted['Prediction'] = test_predicted\n",
    "df_predicted ['Actual'] = test_actual\n",
    "df_predicted.head()"
   ]
  },
  {
   "cell_type": "code",
   "execution_count": 289,
   "metadata": {},
   "outputs": [],
   "source": [
    "#plot the actual and predicted prices\n",
    "def interactive_plot(df,title):\n",
    "    stock_chart = px.line(title=title)\n",
    "    for i in df.columns[0:]:\n",
    "        stock_chart.add_scatter(x= df.index,y=df[i], name = i)\n",
    "    stock_chart.show()\n",
    "interactive_plot(df_predicted,\"Stock Price Predicted\")"
   ]
  },
  {
   "cell_type": "code",
   "execution_count": 290,
   "metadata": {},
   "outputs": [],
   "source": [
    "df_predicted['index'] = df_predicted.index\n"
   ]
  },
  {
   "cell_type": "code",
   "execution_count": 292,
   "metadata": {},
   "outputs": [
    {
     "data": {
      "text/html": [
       "<div>\n",
       "<style scoped>\n",
       "    .dataframe tbody tr th:only-of-type {\n",
       "        vertical-align: middle;\n",
       "    }\n",
       "\n",
       "    .dataframe tbody tr th {\n",
       "        vertical-align: top;\n",
       "    }\n",
       "\n",
       "    .dataframe thead th {\n",
       "        text-align: right;\n",
       "    }\n",
       "</style>\n",
       "<table border=\"1\" class=\"dataframe\">\n",
       "  <thead>\n",
       "    <tr style=\"text-align: right;\">\n",
       "      <th></th>\n",
       "      <th>Prediction</th>\n",
       "      <th>Actual</th>\n",
       "      <th>index</th>\n",
       "    </tr>\n",
       "  </thead>\n",
       "  <tbody>\n",
       "    <tr>\n",
       "      <th>0</th>\n",
       "      <td>58007.601562</td>\n",
       "      <td>63326.98828</td>\n",
       "      <td>0</td>\n",
       "    </tr>\n",
       "    <tr>\n",
       "      <th>1</th>\n",
       "      <td>58249.046875</td>\n",
       "      <td>67566.82813</td>\n",
       "      <td>1</td>\n",
       "    </tr>\n",
       "    <tr>\n",
       "      <th>2</th>\n",
       "      <td>59518.488281</td>\n",
       "      <td>66971.82813</td>\n",
       "      <td>2</td>\n",
       "    </tr>\n",
       "    <tr>\n",
       "      <th>3</th>\n",
       "      <td>61346.117188</td>\n",
       "      <td>64995.23047</td>\n",
       "      <td>3</td>\n",
       "    </tr>\n",
       "    <tr>\n",
       "      <th>4</th>\n",
       "      <td>62597.609375</td>\n",
       "      <td>64949.96094</td>\n",
       "      <td>4</td>\n",
       "    </tr>\n",
       "    <tr>\n",
       "      <th>...</th>\n",
       "      <td>...</td>\n",
       "      <td>...</td>\n",
       "      <td>...</td>\n",
       "    </tr>\n",
       "    <tr>\n",
       "      <th>101</th>\n",
       "      <td>44109.542969</td>\n",
       "      <td>43961.85938</td>\n",
       "      <td>101</td>\n",
       "    </tr>\n",
       "    <tr>\n",
       "      <th>102</th>\n",
       "      <td>44619.058594</td>\n",
       "      <td>40538.01172</td>\n",
       "      <td>102</td>\n",
       "    </tr>\n",
       "    <tr>\n",
       "      <th>103</th>\n",
       "      <td>44713.320312</td>\n",
       "      <td>40030.97656</td>\n",
       "      <td>103</td>\n",
       "    </tr>\n",
       "    <tr>\n",
       "      <th>104</th>\n",
       "      <td>43672.363281</td>\n",
       "      <td>40122.15625</td>\n",
       "      <td>104</td>\n",
       "    </tr>\n",
       "    <tr>\n",
       "      <th>105</th>\n",
       "      <td>42490.765625</td>\n",
       "      <td>38431.37891</td>\n",
       "      <td>105</td>\n",
       "    </tr>\n",
       "  </tbody>\n",
       "</table>\n",
       "<p>106 rows × 3 columns</p>\n",
       "</div>"
      ],
      "text/plain": [
       "       Prediction       Actual  index\n",
       "0    58007.601562  63326.98828      0\n",
       "1    58249.046875  67566.82813      1\n",
       "2    59518.488281  66971.82813      2\n",
       "3    61346.117188  64995.23047      3\n",
       "4    62597.609375  64949.96094      4\n",
       "..            ...          ...    ...\n",
       "101  44109.542969  43961.85938    101\n",
       "102  44619.058594  40538.01172    102\n",
       "103  44713.320312  40030.97656    103\n",
       "104  43672.363281  40122.15625    104\n",
       "105  42490.765625  38431.37891    105\n",
       "\n",
       "[106 rows x 3 columns]"
      ]
     },
     "execution_count": 292,
     "metadata": {},
     "output_type": "execute_result"
    }
   ],
   "source": [
    "df_predicted\n"
   ]
  },
  {
   "cell_type": "code",
   "execution_count": 305,
   "metadata": {},
   "outputs": [],
   "source": [
    "#saving to csv file to use in tableau for analysis\n",
    "\n",
    "df_predicted.to_csv('predicted2.csv', encoding='utf-8',index='true')"
   ]
  }
 ],
 "metadata": {
  "interpreter": {
   "hash": "9d4283e4180f96e01a6ea8c880ff0883fa95af019e9cc0d36027f3e8947bd805"
  },
  "kernelspec": {
   "display_name": "Python 3.8.8 ('crypto-analysis')",
   "language": "python",
   "name": "python3"
  },
  "language_info": {
   "codemirror_mode": {
    "name": "ipython",
    "version": 3
   },
   "file_extension": ".py",
   "mimetype": "text/x-python",
   "name": "python",
   "nbconvert_exporter": "python",
   "pygments_lexer": "ipython3",
   "version": "3.8.8"
  },
  "orig_nbformat": 4
 },
 "nbformat": 4,
 "nbformat_minor": 2
}
